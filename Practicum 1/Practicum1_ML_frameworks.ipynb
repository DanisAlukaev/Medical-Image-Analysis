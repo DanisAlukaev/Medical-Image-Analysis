{
  "nbformat": 4,
  "nbformat_minor": 0,
  "metadata": {
    "kernelspec": {
      "display_name": "Python 3",
      "language": "python",
      "name": "python3"
    },
    "language_info": {
      "codemirror_mode": {
        "name": "ipython",
        "version": 3
      },
      "file_extension": ".py",
      "mimetype": "text/x-python",
      "name": "python",
      "nbconvert_exporter": "python",
      "pygments_lexer": "ipython3",
      "version": "3.7.6"
    },
    "latex_envs": {
      "LaTeX_envs_menu_present": true,
      "autoclose": false,
      "autocomplete": true,
      "bibliofile": "biblio.bib",
      "cite_by": "apalike",
      "current_citInitial": 1,
      "eqLabelWithNumbers": true,
      "eqNumInitial": 1,
      "hotkeys": {
        "equation": "Ctrl-E",
        "itemize": "Ctrl-I"
      },
      "labels_anchors": false,
      "latex_user_defs": false,
      "report_style_numbering": false,
      "user_envs_cfg": false
    },
    "varInspector": {
      "cols": {
        "lenName": 16,
        "lenType": 16,
        "lenVar": 40
      },
      "kernels_config": {
        "python": {
          "delete_cmd_postfix": "",
          "delete_cmd_prefix": "del ",
          "library": "var_list.py",
          "varRefreshCmd": "print(var_dic_list())"
        },
        "r": {
          "delete_cmd_postfix": ") ",
          "delete_cmd_prefix": "rm(",
          "library": "var_list.r",
          "varRefreshCmd": "cat(var_dic_list()) "
        }
      },
      "types_to_exclude": [
        "module",
        "function",
        "builtin_function_or_method",
        "instance",
        "_Feature"
      ],
      "window_display": false
    },
    "colab": {
      "name": "Practicum1_ML_frameworks.ipynb",
      "provenance": [],
      "collapsed_sections": []
    }
  },
  "cells": [
    {
      "cell_type": "markdown",
      "metadata": {
        "id": "zvuwdr8LPXFt",
        "colab_type": "text"
      },
      "source": [
        "## This is the first practical task of Sirius summer school \"Applying AI for Med image analysis\". \n",
        "Practical tasks take form of jupyter notebook with example code in the begging and some tasks in the end. Please, provide your solution in form of python code. Read hints, google a lot, don't hesitate to ask us directly and most importantly - \n",
        "<span style=\"color:blue\">have fun</span>."
      ]
    },
    {
      "cell_type": "markdown",
      "metadata": {
        "id": "ia-mNUH5PXFv",
        "colab_type": "text"
      },
      "source": [
        "**Topic**: ML frameworks, data preprocessing\n",
        "\n",
        "**To submit**: New version of the notebook, with your code. "
      ]
    },
    {
      "cell_type": "markdown",
      "metadata": {
        "id": "GaruJC-IPXFw",
        "colab_type": "text"
      },
      "source": [
        "## ML frameworks:\n",
        "### - Tensorflow\n",
        "### - High level tensorflow (aka Keras)\n",
        "### - Pytorch\n",
        "### - Other dead frameworks"
      ]
    },
    {
      "cell_type": "markdown",
      "metadata": {
        "id": "uxnyzkk_PXFx",
        "colab_type": "text"
      },
      "source": [
        "![image.png](https://cv-tricks.com/wp-content/uploads/2018/05/Karpathy-Pytorch-Tweet.png)"
      ]
    },
    {
      "cell_type": "markdown",
      "metadata": {
        "id": "anOOCI0fPXFy",
        "colab_type": "text"
      },
      "source": [
        "Please finish the folowing tutorials to get familiar with pytorch (we will use it later in course):\n",
        "- https://pytorch.org/tutorials/beginner/blitz/tensor_tutorial.html#sphx-glr-beginner-blitz-tensor-tutorial-py\n",
        "- https://pytorch.org/tutorials/beginner/blitz/autograd_tutorial.html\n",
        "- https://pytorch.org/tutorials/beginner/blitz/cifar10_tutorial.html"
      ]
    },
    {
      "cell_type": "markdown",
      "metadata": {
        "id": "RYLZn9hFPXFz",
        "colab_type": "text"
      },
      "source": [
        "Important part of Pytorch training cycle is Dataset class, which provides way to load data into your model. "
      ]
    },
    {
      "cell_type": "code",
      "metadata": {
        "id": "jeLz5CS4PXF0",
        "colab_type": "code",
        "colab": {
          "base_uri": "https://localhost:8080/",
          "height": 139
        },
        "outputId": "53c82d23-c4e0-43fc-f5a8-2990b0b0084c"
      },
      "source": [
        "!pip install torch===1.5.1 torchvision===0.6.1 -f https://download.pytorch.org/whl/torch_stable.html"
      ],
      "execution_count": null,
      "outputs": [
        {
          "output_type": "stream",
          "text": [
            "Looking in links: https://download.pytorch.org/whl/torch_stable.html\n",
            "Requirement already satisfied: torch===1.5.1 in /usr/local/lib/python3.6/dist-packages (1.5.1)\n",
            "Requirement already satisfied: torchvision===0.6.1 in /usr/local/lib/python3.6/dist-packages (0.6.1)\n",
            "Requirement already satisfied: future in /usr/local/lib/python3.6/dist-packages (from torch===1.5.1) (0.16.0)\n",
            "Requirement already satisfied: numpy in /usr/local/lib/python3.6/dist-packages (from torch===1.5.1) (1.18.5)\n",
            "Requirement already satisfied: pillow>=4.1.1 in /usr/local/lib/python3.6/dist-packages (from torchvision===0.6.1) (7.0.0)\n"
          ],
          "name": "stdout"
        }
      ]
    },
    {
      "cell_type": "code",
      "metadata": {
        "id": "CGHuChSbPXF7",
        "colab_type": "code",
        "colab": {}
      },
      "source": [
        "import torch\n",
        "from torch.utils.data import Dataset\n",
        "import numpy as np\n",
        "\n",
        "class MyDataset(Dataset):\n",
        "    def __init__():\n",
        "        #do some initialization\n",
        "        pass\n",
        "    \n",
        "    def __len__(self):\n",
        "        #calculate length of your dataset here\n",
        "        return \n",
        "    \n",
        "    def __getitem__(self, index):\n",
        "        #code to load sample with given index\n",
        "        return"
      ],
      "execution_count": null,
      "outputs": []
    },
    {
      "cell_type": "markdown",
      "metadata": {
        "id": "mHTtVqcKPXGA",
        "colab_type": "text"
      },
      "source": [
        "For example particular (although not very usefull)  implementation to load number. "
      ]
    },
    {
      "cell_type": "code",
      "metadata": {
        "id": "brXjtukUPXGB",
        "colab_type": "code",
        "colab": {
          "base_uri": "https://localhost:8080/",
          "height": 51
        },
        "outputId": "7399fb68-dc2f-4e5c-8dd8-436b595f0722"
      },
      "source": [
        "class MyNumberDataset(Dataset):\n",
        "    \"\"\"\n",
        "    Return numbers from given range\n",
        "    \"\"\"\n",
        "    def __init__(self,min_number=0,max_number=100):\n",
        "        self.numbers = np.arange(min_number,max_number)\n",
        "        pass\n",
        "    \n",
        "    def __len__(self):\n",
        "        return len(self.numbers)\n",
        "    \n",
        "    def __getitem__(self, index):\n",
        "        return torch.tensor(self.numbers[index])\n",
        "\n",
        "my_dataset = MyNumberDataset(0,10)\n",
        "print(my_dataset[0])\n",
        "print(my_dataset[5])"
      ],
      "execution_count": null,
      "outputs": [
        {
          "output_type": "stream",
          "text": [
            "tensor(0)\n",
            "tensor(5)\n"
          ],
          "name": "stdout"
        }
      ]
    },
    {
      "cell_type": "markdown",
      "metadata": {
        "id": "FGkjqz-tPXGH",
        "colab_type": "text"
      },
      "source": [
        "### Two kinds of data preprocessing:\n",
        "#### - Transforms - Invariant preprocessing always applied to image (for example, noise reduction, convertion to proper size)\n",
        "#### - Augmentations - Probabilistic changes, used in training to add variation to images. \n",
        "#### let's see how they work\n",
        "\n",
        "https://albumentations.readthedocs.io/en/latest/examples.html"
      ]
    },
    {
      "cell_type": "code",
      "metadata": {
        "id": "akpqehxfmK9z",
        "colab_type": "code",
        "colab": {
          "base_uri": "https://localhost:8080/",
          "height": 54
        },
        "outputId": "9a45b091-bfbd-42b2-e20e-f67b3c9d2e5d"
      },
      "source": [
        "from google.colab import drive\n",
        "drive.mount('/content/drive')"
      ],
      "execution_count": null,
      "outputs": [
        {
          "output_type": "stream",
          "text": [
            "Drive already mounted at /content/drive; to attempt to forcibly remount, call drive.mount(\"/content/drive\", force_remount=True).\n"
          ],
          "name": "stdout"
        }
      ]
    },
    {
      "cell_type": "code",
      "metadata": {
        "id": "5Nz--Yp3PXGI",
        "colab_type": "code",
        "colab": {
          "base_uri": "https://localhost:8080/",
          "height": 326
        },
        "outputId": "2c6d405c-3587-48e9-a8d2-da5714b1f132"
      },
      "source": [
        "!pip install albumentations"
      ],
      "execution_count": null,
      "outputs": [
        {
          "output_type": "stream",
          "text": [
            "Requirement already satisfied: albumentations in /usr/local/lib/python3.6/dist-packages (0.1.12)\n",
            "Requirement already satisfied: scipy in /usr/local/lib/python3.6/dist-packages (from albumentations) (1.4.1)\n",
            "Requirement already satisfied: numpy>=1.11.1 in /usr/local/lib/python3.6/dist-packages (from albumentations) (1.18.5)\n",
            "Requirement already satisfied: imgaug<0.2.7,>=0.2.5 in /usr/local/lib/python3.6/dist-packages (from albumentations) (0.2.6)\n",
            "Requirement already satisfied: opencv-python in /usr/local/lib/python3.6/dist-packages (from albumentations) (4.1.2.30)\n",
            "Requirement already satisfied: six in /usr/local/lib/python3.6/dist-packages (from imgaug<0.2.7,>=0.2.5->albumentations) (1.15.0)\n",
            "Requirement already satisfied: scikit-image>=0.11.0 in /usr/local/lib/python3.6/dist-packages (from imgaug<0.2.7,>=0.2.5->albumentations) (0.16.2)\n",
            "Requirement already satisfied: imageio>=2.3.0 in /usr/local/lib/python3.6/dist-packages (from scikit-image>=0.11.0->imgaug<0.2.7,>=0.2.5->albumentations) (2.4.1)\n",
            "Requirement already satisfied: matplotlib!=3.0.0,>=2.0.0 in /usr/local/lib/python3.6/dist-packages (from scikit-image>=0.11.0->imgaug<0.2.7,>=0.2.5->albumentations) (3.2.2)\n",
            "Requirement already satisfied: PyWavelets>=0.4.0 in /usr/local/lib/python3.6/dist-packages (from scikit-image>=0.11.0->imgaug<0.2.7,>=0.2.5->albumentations) (1.1.1)\n",
            "Requirement already satisfied: pillow>=4.3.0 in /usr/local/lib/python3.6/dist-packages (from scikit-image>=0.11.0->imgaug<0.2.7,>=0.2.5->albumentations) (7.0.0)\n",
            "Requirement already satisfied: networkx>=2.0 in /usr/local/lib/python3.6/dist-packages (from scikit-image>=0.11.0->imgaug<0.2.7,>=0.2.5->albumentations) (2.4)\n",
            "Requirement already satisfied: pyparsing!=2.0.4,!=2.1.2,!=2.1.6,>=2.0.1 in /usr/local/lib/python3.6/dist-packages (from matplotlib!=3.0.0,>=2.0.0->scikit-image>=0.11.0->imgaug<0.2.7,>=0.2.5->albumentations) (2.4.7)\n",
            "Requirement already satisfied: cycler>=0.10 in /usr/local/lib/python3.6/dist-packages (from matplotlib!=3.0.0,>=2.0.0->scikit-image>=0.11.0->imgaug<0.2.7,>=0.2.5->albumentations) (0.10.0)\n",
            "Requirement already satisfied: python-dateutil>=2.1 in /usr/local/lib/python3.6/dist-packages (from matplotlib!=3.0.0,>=2.0.0->scikit-image>=0.11.0->imgaug<0.2.7,>=0.2.5->albumentations) (2.8.1)\n",
            "Requirement already satisfied: kiwisolver>=1.0.1 in /usr/local/lib/python3.6/dist-packages (from matplotlib!=3.0.0,>=2.0.0->scikit-image>=0.11.0->imgaug<0.2.7,>=0.2.5->albumentations) (1.2.0)\n",
            "Requirement already satisfied: decorator>=4.3.0 in /usr/local/lib/python3.6/dist-packages (from networkx>=2.0->scikit-image>=0.11.0->imgaug<0.2.7,>=0.2.5->albumentations) (4.4.2)\n"
          ],
          "name": "stdout"
        }
      ]
    },
    {
      "cell_type": "code",
      "metadata": {
        "id": "M5sE0_YCnDOf",
        "colab_type": "code",
        "colab": {
          "base_uri": "https://localhost:8080/",
          "height": 34
        },
        "outputId": "a71c64ca-6da2-4d57-b1a9-070ad8f7c5e0"
      },
      "source": [
        "!pip install pydicom "
      ],
      "execution_count": null,
      "outputs": [
        {
          "output_type": "stream",
          "text": [
            "Requirement already satisfied: pydicom in /usr/local/lib/python3.6/dist-packages (2.0.0)\n"
          ],
          "name": "stdout"
        }
      ]
    },
    {
      "cell_type": "code",
      "metadata": {
        "id": "UA0ohKb9PXGO",
        "colab_type": "code",
        "colab": {}
      },
      "source": [
        "import pydicom \n",
        "from matplotlib import pyplot as plt\n",
        "from albumentations import (\n",
        "    HorizontalFlip, VerticalFlip, ShiftScaleRotate, CLAHE, RandomRotate90,\n",
        "    Transpose, ShiftScaleRotate, Blur, OpticalDistortion, GridDistortion, HueSaturationValue,\n",
        "     GaussNoise, MotionBlur, MedianBlur, IAAPiecewiseAffine,\n",
        "    IAASharpen, IAAEmboss, RandomBrightnessContrast, Flip, OneOf, Compose\n",
        ")\n",
        "dicom_example = pydicom.read_file(\"/content/drive/My Drive/Inno/data/IM_00020_ano.dcm\")\n",
        "img = dicom_example.pixel_array.copy()\n",
        "img = ((img-img.min()) / (img.max()-img.min()) * 255).astype(np.uint8)\n",
        "\n",
        "transforms = Compose([VerticalFlip(),GridDistortion(distort_limit=1),MotionBlur(blur_limit=10,p=1)])"
      ],
      "execution_count": null,
      "outputs": []
    },
    {
      "cell_type": "code",
      "metadata": {
        "id": "CVI65_lRPXGU",
        "colab_type": "code",
        "colab": {
          "base_uri": "https://localhost:8080/",
          "height": 286
        },
        "outputId": "775edd77-ab14-4d7d-9b94-b3f626e48e38"
      },
      "source": [
        "transformed = transforms(image=img)['image']\n",
        "#Each time you run this cell you will get different result\n",
        "plt.imshow(transformed,cmap=\"bone\")"
      ],
      "execution_count": null,
      "outputs": [
        {
          "output_type": "execute_result",
          "data": {
            "text/plain": [
              "<matplotlib.image.AxesImage at 0x7f6d7cf1f908>"
            ]
          },
          "metadata": {
            "tags": []
          },
          "execution_count": 8
        },
        {
          "output_type": "display_data",
          "data": {
            "image/png": "[encoded data removed]",
            "text/plain": [
              "<Figure size 432x288 with 1 Axes>"
            ]
          },
          "metadata": {
            "tags": [],
            "needs_background": "light"
          }
        }
      ]
    },
    {
      "cell_type": "markdown",
      "metadata": {
        "id": "ItPujACdPXGe",
        "colab_type": "text"
      },
      "source": [
        "## **Task 1:**\n",
        "- Theory: It's great to have convinient dataset class to train your model. \n",
        "- Given: Images from data\\MedMnist folder\n",
        "- Do: Create dataset class, which supports transformations. Use folder names to create classes.  \n"
      ]
    },
    {
      "cell_type": "code",
      "metadata": {
        "id": "0G0ODG9bMJB3",
        "colab_type": "code",
        "colab": {
          "base_uri": "https://localhost:8080/",
          "height": 71
        },
        "outputId": "89df2380-6c96-49e9-d416-d97219351d7b"
      },
      "source": [
        "# used to read jpeg files\n",
        "!pip install opencv-python"
      ],
      "execution_count": null,
      "outputs": [
        {
          "output_type": "stream",
          "text": [
            "Requirement already satisfied: opencv-python in /usr/local/lib/python3.6/dist-packages (4.1.2.30)\n",
            "Requirement already satisfied: numpy>=1.11.3 in /usr/local/lib/python3.6/dist-packages (from opencv-python) (1.18.5)\n"
          ],
          "name": "stdout"
        }
      ]
    },
    {
      "cell_type": "code",
      "metadata": {
        "id": "-JtA4Il1PXGf",
        "colab_type": "code",
        "colab": {}
      },
      "source": [
        "import zipfile\n",
        "with zipfile.ZipFile('/content/drive/My Drive/Inno/data/MedMnist.zip', 'r') as zip_ref:\n",
        "    zip_ref.extractall()"
      ],
      "execution_count": null,
      "outputs": []
    },
    {
      "cell_type": "code",
      "metadata": {
        "id": "m39wL1fMUK2p",
        "colab_type": "code",
        "colab": {}
      },
      "source": [
        "from albumentations import (\n",
        "    HorizontalFlip, IAAPerspective, ShiftScaleRotate, CLAHE, RandomRotate90,\n",
        "    Transpose, ShiftScaleRotate, Blur, OpticalDistortion, GridDistortion, HueSaturationValue,\n",
        "    IAAAdditiveGaussianNoise, GaussNoise, MotionBlur, MedianBlur, IAAPiecewiseAffine,\n",
        "    IAASharpen, IAAEmboss, RandomBrightnessContrast, Flip, OneOf, Compose\n",
        ")\n",
        "\n",
        "transforms = Compose([\n",
        "        RandomRotate90(),\n",
        "        Flip(),\n",
        "        Transpose(),\n",
        "        OneOf([\n",
        "            IAAAdditiveGaussianNoise(),\n",
        "            GaussNoise(),\n",
        "        ], p=0.2),\n",
        "        OneOf([\n",
        "            MotionBlur(p=0.2),\n",
        "            MedianBlur(blur_limit=3, p=0.1),\n",
        "            Blur(blur_limit=3, p=0.1),\n",
        "        ], p=0.2),\n",
        "        ShiftScaleRotate(shift_limit=0.0625, scale_limit=0.2, rotate_limit=45, p=0.2),\n",
        "        OneOf([\n",
        "            OpticalDistortion(p=0.3),\n",
        "            GridDistortion(p=0.1),\n",
        "            IAAPiecewiseAffine(p=0.3),\n",
        "        ], p=0.2)\n",
        "    ], p=0.5)"
      ],
      "execution_count": null,
      "outputs": []
    },
    {
      "cell_type": "code",
      "metadata": {
        "id": "szW95Zm12-6Q",
        "colab_type": "code",
        "colab": {}
      },
      "source": [
        "import os, os.path, cv2\n",
        "\n",
        "class MMdataset(Dataset):\n",
        "    def __init__(self, path, transform):\n",
        "        paths = []\n",
        "        classes = {}\n",
        "        for root, dirs, files in os.walk(path):\n",
        "          if dirs:\n",
        "            num = 0\n",
        "            for dir in dirs:\n",
        "              classes[dir] = num\n",
        "              num+=1\n",
        "          for name in files:\n",
        "            paths.append(os.path.abspath(os.path.join(root, name)))\n",
        "        self.dirs = classes \n",
        "        self.paths = paths\n",
        "        self.transform = transform\n",
        "    \n",
        "    def __len__(self):\n",
        "        return len(self.paths) \n",
        "    \n",
        "    def __getitem__(self, index):\n",
        "        folders = self.paths[index].split('/')\n",
        "        img = cv2.imread(self.paths[index],0)\n",
        "        return {'image':self.transform(image=img)['image'], 'label': self.dirs[folders[3]]}"
      ],
      "execution_count": null,
      "outputs": []
    },
    {
      "cell_type": "code",
      "metadata": {
        "id": "gHzGpwsE4P-D",
        "colab_type": "code",
        "colab": {
          "base_uri": "https://localhost:8080/",
          "height": 34
        },
        "outputId": "5b4702a7-7ce4-48f0-de0a-bf5ac5b53741"
      },
      "source": [
        "data = MMdataset(path='/content/MedMnist', transform=transforms)\n",
        "print(data.dirs)"
      ],
      "execution_count": null,
      "outputs": [
        {
          "output_type": "stream",
          "text": [
            "{'Hand': 0, 'HeadCT': 1, 'BreastMRI': 2, 'ChestCT': 3, 'AbdomenCT': 4, 'CXR': 5}\n"
          ],
          "name": "stdout"
        }
      ]
    },
    {
      "cell_type": "code",
      "metadata": {
        "id": "r7MCt6994oS2",
        "colab_type": "code",
        "colab": {
          "base_uri": "https://localhost:8080/",
          "height": 319
        },
        "outputId": "b9b22f5d-ba9a-4f95-ff86-48cae076be6a"
      },
      "source": [
        "print(data.__len__())\n",
        "print(data[20000]['label'])\n",
        "plt.imshow(data[20000]['image'],cmap=\"bone\")"
      ],
      "execution_count": null,
      "outputs": [
        {
          "output_type": "stream",
          "text": [
            "58954\n",
            "2\n"
          ],
          "name": "stdout"
        },
        {
          "output_type": "execute_result",
          "data": {
            "text/plain": [
              "<matplotlib.image.AxesImage at 0x7f6d78c90978>"
            ]
          },
          "metadata": {
            "tags": []
          },
          "execution_count": 14
        },
        {
          "output_type": "display_data",
          "data": {
            "image/png": "[encoded data removed]",
            "text/plain": [
              "<Figure size 432x288 with 1 Axes>"
            ]
          },
          "metadata": {
            "tags": [],
            "needs_background": "light"
          }
        }
      ]
    },
    {
      "cell_type": "code",
      "metadata": {
        "id": "dlGlGbCD46_b",
        "colab_type": "code",
        "colab": {}
      },
      "source": [
        ""
      ],
      "execution_count": null,
      "outputs": []
    }
  ]
}